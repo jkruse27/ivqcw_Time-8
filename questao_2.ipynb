{
  "nbformat": 4,
  "nbformat_minor": 5,
  "metadata": {
    "interpreter": {
      "hash": "2bea77b57edb05fec586817dbaa523eb581605156a3265bf3b292afb54c9c986"
    },
    "kernelspec": {
      "display_name": "Python 3.8.12 64-bit ('qiskit': conda)",
      "name": "python3"
    },
    "language_info": {
      "codemirror_mode": {
        "name": "ipython",
        "version": 3
      },
      "file_extension": ".py",
      "mimetype": "text/x-python",
      "name": "python",
      "nbconvert_exporter": "python",
      "pygments_lexer": "ipython3",
      "version": "3.8.12"
    },
    "colab": {
      "name": "questao_2.ipynb",
      "provenance": []
    }
  },
  "cells": [
    {
      "cell_type": "code",
      "metadata": {
        "id": "f634fc78"
      },
      "source": [
        "from qiskit import *\n",
        "from qiskit.circuit.library import PhaseEstimation"
      ],
      "id": "f634fc78",
      "execution_count": 73,
      "outputs": []
    },
    {
      "cell_type": "markdown",
      "metadata": {
        "id": "5421376f"
      },
      "source": [
        "# Qual é essa porta lógica quântica II - o Retorno\n",
        "\n",
        "Você receberá uma operação que implementa uma transformação unitária em um único qubit: ela poderá ser ou a porta Y (com a possibilidade de uma fase global extra de -1) ou a sequência de portas Pauli Z e Pauli X (com a porta Z sendo aplicada primeiro e a X depois; com a possibilidade de uma fase global extra de -1).\n",
        "\n",
        "Seu objetivo é identificar qual das operações foi usada apenas olhando para o resultado de sua aplicação.\n",
        "\n",
        "Você deve usar o template da célula abaixo para apresentar sua solução implementando a função `qual_porta`. Nela, você deve retornar um número entre 0 e 3, apresentando qual é a porta lógica quântica passada no argumento `U`. Você deve retornar \n",
        "\n",
        "* 0 quando `U` for a porta Y,\n",
        "* 1 quando `U` for a porta -XZ,\n",
        "* 2 quando `U` for a porta -Y e\n",
        "* 3 quando `U` for a porta XZ.\n",
        "\n",
        "Você pode usar qualquer operação quântica para descobrir qual é a porta. O objetivo é usar seus conhecimentos de computação quântica para resolver este desafio, por isso, qualquer solução que não use computação quântica não será avaliada.\n",
        "\n",
        "\n",
        "**Importante:** Essa questão deve ser resolvida usando o Qiskit. Qualquer solução que não use a ferramenta será desconsiderada."
      ],
      "id": "5421376f"
    },
    {
      "cell_type": "markdown",
      "metadata": {
        "id": "x4KCogmh8_ru"
      },
      "source": [
        "Para a solução desse problema, é relevante notar que XZ = iY e -XZ = -iY. Com isso, nosso desafio consiste em diferenciar entre Y, iY, -Y e -iY, que são 4 portas idênticas com exeção da fase global. Com isso, como nós sabemos que o autoestado do oprador Y é $\\frac{1}{\\sqrt{2}}(|0\\rangle+i|1\\rangle)$ (que pode ser obtido aplicando um H seguido de um S), nós podemos usar o algoritmo de estimação de fase quântica (QPE) para obter seus autovalores, que serão 0, $\\frac{\\pi}{2},\\pi,\\frac{3\\pi}{2}$ respectivamente, e que corresponderão aos índices buscados."
      ],
      "id": "x4KCogmh8_ru"
    },
    {
      "cell_type": "code",
      "metadata": {
        "id": "HVGA8IaROHIW"
      },
      "source": [
        "def qual_porta(U : QuantumCircuit) -> int:\n",
        "  \n",
        "  answer = 0\n",
        "\n",
        "  #############################\n",
        "  # Escreva o seu código abaixo\n",
        "  #############################\n",
        "\n",
        "  qc = QuantumCircuit(3,2)\n",
        "  \n",
        "  # Inicializando autoestado de Y\n",
        "  qc.h(2)\n",
        "  qc.s(2)\n",
        "\n",
        "  # Estimando fase\n",
        "  qc.append(PhaseEstimation(2, U),[0,1,2])\n",
        "  qc.measure([0,1],[1,0])\n",
        "\n",
        "  # Simulando e obtendo resultado\n",
        "  backend = Aer.get_backend('qasm_simulator')\n",
        "  qc = transpile(qc, backend)\n",
        "  res = list(backend.run(qc, shots=1).result().get_counts().keys())[0]\n",
        "\n",
        "  # Convertendo string binária para inteiro\n",
        "  answer = int(res,2)\n",
        "\n",
        "  return answer"
      ],
      "id": "HVGA8IaROHIW",
      "execution_count": 125,
      "outputs": []
    },
    {
      "cell_type": "markdown",
      "metadata": {
        "id": "6d067d5c"
      },
      "source": [
        "> Não edite a partir daqui\n",
        "\n",
        "## Teste sua solução \n",
        "\n",
        "Você pode usar o código abaixo para testar sua solução. Lembrando que, caso sua solução chegue ao resultado correto sem o uso de computação quântica, ela será desconsiderada, "
      ],
      "id": "6d067d5c"
    },
    {
      "cell_type": "code",
      "metadata": {
        "id": "42475ce3"
      },
      "source": [
        "from random import shuffle\n",
        "\n",
        "class Unitary:\n",
        "    def __init__(self, num):\n",
        "        self.qc = QuantumCircuit(1)\n",
        "        if num == 0:\n",
        "            self.Y()\n",
        "        elif num == 1:\n",
        "            self.mZX()\n",
        "        elif num == 2:\n",
        "            self.mY()\n",
        "        elif num == 3:\n",
        "            self.ZX()\n",
        "    \n",
        "    def Y(self):\n",
        "        self.qc.y(0)\n",
        "\n",
        "    def ZX(self):\n",
        "        self.qc.z(0)\n",
        "        self.qc.x(0)\n",
        "\n",
        "    def mY(self):\n",
        "        self.qc.z(0)\n",
        "        self.qc.x(0)\n",
        "        self.qc.y(0)\n",
        "        self.qc.z(0)\n",
        "        self.qc.x(0)\n",
        "\n",
        "    def mZX(self):\n",
        "        self.qc.x(0)\n",
        "        self.qc.z(0)\n",
        " \n",
        "     \n",
        "def testar_solucao():\n",
        "    tests = \\\n",
        "        [(Unitary(0), 0) for _ in range(10)] + \\\n",
        "        [(Unitary(1), 1) for _ in range(10)] + \\\n",
        "        [(Unitary(2), 2) for _ in range(10)] + \\\n",
        "        [(Unitary(3), 3) for _ in range(10)] \n",
        "    shuffle(tests)\n",
        "    ok = 0\n",
        "    for U, val in tests:\n",
        "        solucao = qual_porta(U.qc)\n",
        "        if val == solucao:\n",
        "            ok += 1\n",
        "    \n",
        "    print(f\"Solução {int((ok/len(tests))*100)}% correta\")"
      ],
      "id": "42475ce3",
      "execution_count": 126,
      "outputs": []
    },
    {
      "cell_type": "code",
      "metadata": {
        "id": "96f670af",
        "colab": {
          "base_uri": "https://localhost:8080/"
        },
        "outputId": "0e77d6ca-8925-4228-f2ae-6fe81932fb54"
      },
      "source": [
        "testar_solucao()"
      ],
      "id": "96f670af",
      "execution_count": 127,
      "outputs": [
        {
          "output_type": "stream",
          "name": "stdout",
          "text": [
            "Solução 100% correta\n"
          ]
        }
      ]
    },
    {
      "cell_type": "code",
      "metadata": {
        "id": "gyygqU7VSLbN"
      },
      "source": [
        ""
      ],
      "id": "gyygqU7VSLbN",
      "execution_count": null,
      "outputs": []
    }
  ]
}