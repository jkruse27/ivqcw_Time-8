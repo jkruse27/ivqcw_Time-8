{
  "nbformat": 4,
  "nbformat_minor": 5,
  "metadata": {
    "interpreter": {
      "hash": "bead809745181f03523aa0a456d8ae6eb61a80445cfe382ed2adaa91265025e8"
    },
    "kernelspec": {
      "display_name": "Python 3 (ipykernel)",
      "language": "python",
      "name": "python3"
    },
    "language_info": {
      "codemirror_mode": {
        "name": "ipython",
        "version": 3
      },
      "file_extension": ".py",
      "mimetype": "text/x-python",
      "name": "python",
      "nbconvert_exporter": "python",
      "pygments_lexer": "ipython3",
      "version": "3.9.7"
    },
    "colab": {
      "name": "questao_1.ipynb",
      "provenance": []
    }
  },
  "cells": [
    {
      "cell_type": "code",
      "metadata": {
        "colab": {
          "base_uri": "https://localhost:8080/",
          "height": 621
        },
        "id": "a3bd174e",
        "outputId": "ad8ba51e-5a54-4685-dd8f-a9e42940418d"
      },
      "source": [
        "from IPython.display import Image, display\n",
        "display(Image(url='https://workshop-cq.ufsc.br/2021/fotos/qual_porta.png'))"
      ],
      "id": "a3bd174e",
      "execution_count": 9,
      "outputs": [
        {
          "output_type": "display_data",
          "data": {
            "text/html": [
              "<img src=\"https://workshop-cq.ufsc.br/2021/fotos/qual_porta.png\"/>"
            ],
            "text/plain": [
              "<IPython.core.display.Image object>"
            ]
          },
          "metadata": {}
        }
      ]
    },
    {
      "cell_type": "markdown",
      "metadata": {
        "id": "5421376f"
      },
      "source": [
        "# Qual é essa porta lógica quântica?\n",
        "\n",
        "No estilo de “Quem é esse Pokémon\", seu objetivo é identificar qual é a porta lógica quântica apenas olhando para o resultado da sua aplicação. Você deve diferenciar entre as portas Pauli X, Y e Z, e a porta identidade (I).\n",
        "\n",
        "Você deve usar o template da célula abaixo para apresentar sua solução implementando a função `qual_porta`. Nela, você deve retornar um número entre 0 e 3, apresentando qual é a porta lógica quântica passada no argumento `U`. Você deve retornar \n",
        "* 0 quando `U` for a porta identidade,\n",
        "* 1 quando `U` for a porta Pauli X,\n",
        "* 2 quando `U` for a porta Pauli Z e\n",
        "* 3 quando `U` for a porta Pauli Y.\n",
        "\n",
        "Com exceção da operação `dump` do Ket, você pode usar qualquer operação quântica para descobrir qual é a porta `U`. No entanto, você só vai poder usar a porta `U` uma única vez durante a chamada da função `qual_porta`. O objetivo é usar seus conhecimentos de computação quântica para resolver este desafio, por isso, qualquer solução que não use computação quântica não será avaliada."
      ],
      "id": "5421376f"
    },
    {
      "cell_type": "markdown",
      "metadata": {
        "id": "2d7bf2dc"
      },
      "source": [
        "Para executar um código em Ket é necessário iniciar o simulador KBW. Para instalar o simulador basta executar o comando no terminal:\n",
        "```console\n",
        "pip3 install kbw\n",
        "```\n",
        "E para iniciar o simulador basta executar:\n",
        "```console\n",
        "python3 -m kbw\n",
        "```\n",
        "\n",
        "**Importante:** Essa questão deve ser resolvida usando a linguagem Ket. Qualquer solução que não use a linguagem será desconsiderada."
      ],
      "id": "2d7bf2dc"
    },
    {
      "cell_type": "markdown",
      "metadata": {
        "id": "RTVPXVdZYHj8"
      },
      "source": [
        "Partindo de um sistema em $|\\psi\\rangle=|00\\rangle$ inicializamos o sistema em um estado de Bell aplicando uma porta H em $q_0$ e depois uma operação CX com $q_0$ como controle e $q_1$ como alvo. Assim, chegamos no estado $|\\psi\\rangle=\\frac{1}{\\sqrt{2}}(|00\\rangle+|11\\rangle)$. Nesse ponto, a aplicação das portas I, X, Y e Z em $q_0$ resulta nos seguintes estados.\n",
        "$$\\begin{cases}\n",
        "I:\\psi\\rangle=\\frac{1}{\\sqrt{2}}(|00\\rangle+|11\\rangle) \\\\\n",
        "X:\\psi\\rangle=\\frac{1}{\\sqrt{2}}(|01\\rangle+|10\\rangle) \\\\\n",
        "Y:\\psi\\rangle=\\frac{i}{\\sqrt{2}}(|01\\rangle-|10\\rangle) \\\\\n",
        "Z:\\psi\\rangle=\\frac{1}{\\sqrt{2}}(|00\\rangle-|11\\rangle) \\\\\n",
        "\\end{cases}$$\n",
        "que correspondem ao estado de Bell para os estados iniciais $|00\\rangle, |01\\rangle, |11\\rangle, |10\\rangle$ (a menos de uma fase global i para o caso do Y, que não interferirá no problema). Com isso, agora aplicando novamente a transformação inversa para voltarmos ao estado original acabamos obtendo as sequências vistas anteriormente para cada uma das operações U usadas, que são iguais aos valores desejados de retorna para a função em binário."
      ],
      "id": "RTVPXVdZYHj8"
    },
    {
      "cell_type": "code",
      "metadata": {
        "id": "f634fc78"
      },
      "source": [
        "from ket import *\n",
        "from typing import Callable"
      ],
      "id": "f634fc78",
      "execution_count": 2,
      "outputs": []
    },
    {
      "cell_type": "code",
      "metadata": {
        "id": "eaa6c230"
      },
      "source": [
        "def qual_porta(U : Callable) -> int:\n",
        "  \n",
        "  answer = 0\n",
        "  q = quant(2)\n",
        "\n",
        "  H(q[0])\n",
        "  ctrl(q[0],X,q[1])\n",
        "  U(q[0])\n",
        "  ctrl(q[0],X,q[1])  \n",
        "  H(q[0])\n",
        "\n",
        "  result = measure(q)\n",
        "\n",
        "  return result.get()"
      ],
      "id": "eaa6c230",
      "execution_count": 6,
      "outputs": []
    },
    {
      "cell_type": "markdown",
      "metadata": {
        "id": "6d067d5c"
      },
      "source": [
        "> Não edite a partir daqui\n",
        "\n",
        "## Teste sua solução \n",
        "\n",
        "Você pode usar o código abaixo para testar sua solução. Lembrando que, caso sua solução chegue ao resultado correto sem o uso de computação quântica, ela será desconsiderada, "
      ],
      "id": "6d067d5c"
    },
    {
      "cell_type": "code",
      "metadata": {
        "id": "e2a0d874"
      },
      "source": [
        "from random import shuffle\n",
        "\n",
        "class Pauli:\n",
        "    def __init__(self, gate):\n",
        "        self.gate = gate\n",
        "    def __call__(self, q : quant):\n",
        "        self.gate(q)\n",
        "        self.gate = lambda q : print(\"Só é possível usar a porta quântica uma única vez!\")  \n",
        "  \n",
        "      \n",
        "def testar_solucao(solucao):\n",
        "    tests = \\\n",
        "        [(Pauli(lambda q : I(q)), 0) for _ in range(100)] + \\\n",
        "        [(Pauli(lambda q : X(q)), 1) for _ in range(100)] + \\\n",
        "        [(Pauli(lambda q : Z(q)), 2) for _ in range(100)] + \\\n",
        "        [(Pauli(lambda q : Y(q)), 3) for _ in range(100)] \n",
        "    shuffle(tests)\n",
        "    ok = 0\n",
        "    for U, val in tests:\n",
        "        if val == solucao(U):\n",
        "            ok += 1\n",
        "    \n",
        "    print(f\"Solução {int((ok/len(tests))*100)}% correta\")"
      ],
      "id": "e2a0d874",
      "execution_count": 4,
      "outputs": []
    },
    {
      "cell_type": "code",
      "metadata": {
        "colab": {
          "base_uri": "https://localhost:8080/"
        },
        "id": "ae1d5f50",
        "outputId": "3fe2779d-5d84-4df6-8926-445d4058b96d"
      },
      "source": [
        "testar_solucao(qual_porta)"
      ],
      "id": "ae1d5f50",
      "execution_count": 7,
      "outputs": [
        {
          "output_type": "stream",
          "name": "stdout",
          "text": [
            "Solução 100% correta\n"
          ]
        }
      ]
    },
    {
      "cell_type": "code",
      "metadata": {
        "id": "bPCqqde-HGZD"
      },
      "source": [
        ""
      ],
      "id": "bPCqqde-HGZD",
      "execution_count": null,
      "outputs": []
    }
  ]
}